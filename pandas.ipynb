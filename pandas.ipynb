{
  "nbformat": 4,
  "nbformat_minor": 0,
  "metadata": {
    "colab": {
      "provenance": [],
      "authorship_tag": "ABX9TyPpxEKSB/f+OzyzmXzvSlvG",
      "include_colab_link": true
    },
    "kernelspec": {
      "name": "python3",
      "display_name": "Python 3"
    },
    "language_info": {
      "name": "python"
    }
  },
  "cells": [
    {
      "cell_type": "markdown",
      "metadata": {
        "id": "view-in-github",
        "colab_type": "text"
      },
      "source": [
        "<a href=\"https://colab.research.google.com/github/vigneshwar315/machinelearning/blob/main/pandas.ipynb\" target=\"_parent\"><img src=\"https://colab.research.google.com/assets/colab-badge.svg\" alt=\"Open In Colab\"/></a>"
      ]
    },
    {
      "cell_type": "code",
      "execution_count": null,
      "metadata": {
        "colab": {
          "base_uri": "https://localhost:8080/"
        },
        "id": "2riULQ0YNp3K",
        "outputId": "4152e8c0-b41b-4efe-e92c-60b5184695ca"
      },
      "outputs": [
        {
          "output_type": "stream",
          "name": "stdout",
          "text": [
            "1    34\n",
            "2    45\n",
            "3    67\n",
            "4    89\n",
            "dtype: int64\n",
            "0    5\n",
            "1    6\n",
            "2    3\n",
            "3    2\n",
            "dtype: int64\n",
            "rajesh     21\n",
            "vignesh    22\n",
            "charan     23\n",
            "dtype: int64\n"
          ]
        }
      ],
      "source": [
        "import pandas as pd\n",
        "import numpy as np\n",
        "#series\n",
        "series1=pd.Series([34,45,67,89],index=(1,2,3,4))\n",
        "print(series1)\n",
        "array1=np.array([5,6,3,2])\n",
        "series2=pd.Series(array1)\n",
        "print(series2)\n",
        "dict1={'rajesh':21,'vignesh':22,'charan':23}\n",
        "series3=pd.Series(dict1)\n",
        "print(series3)"
      ]
    },
    {
      "cell_type": "code",
      "source": [
        "import pandas as pd\n",
        "s1=pd.Series([20,30,40,50],index=[\"ind\",\"us\",\"uk\",\"aus\"])\n",
        "print(s1[2])\n",
        "print(s1[\"us\"])\n",
        "print(s1[[\"ind\",\"aus\"]])\n",
        "print()\n",
        "print(s1[1:3])\n",
        "print(s1[\"ind\":\"uk\"])\n",
        "#print(s1[:3])\n",
        "#print(s1[0:])\n",
        "print()"
      ],
      "metadata": {
        "colab": {
          "base_uri": "https://localhost:8080/"
        },
        "id": "Vq1ifFi-PkPS",
        "outputId": "cdb5402a-9b3e-4384-812e-8b73545db1c7"
      },
      "execution_count": null,
      "outputs": [
        {
          "output_type": "stream",
          "name": "stdout",
          "text": [
            "40\n",
            "30\n",
            "ind    20\n",
            "aus    50\n",
            "dtype: int64\n",
            "\n",
            "us    30\n",
            "uk    40\n",
            "dtype: int64\n",
            "ind    20\n",
            "us     30\n",
            "uk     40\n",
            "dtype: int64\n",
            "\n"
          ]
        },
        {
          "output_type": "stream",
          "name": "stderr",
          "text": [
            "/tmp/ipython-input-1-2353914785.py:3: FutureWarning: Series.__getitem__ treating keys as positions is deprecated. In a future version, integer keys will always be treated as labels (consistent with DataFrame behavior). To access a value by position, use `ser.iloc[pos]`\n",
            "  print(s1[2])\n"
          ]
        }
      ]
    },
    {
      "cell_type": "code",
      "source": [
        "import pandas as pd\n",
        "import numpy as np\n",
        "s1=pd.Series(np.arange(10,17,1))\n",
        "print(s1)\n",
        "print(\"head :\",s1.head(3))\n",
        "print(\"tail :\",s1.tail(2))\n",
        "print(\"count :\",s1.count())"
      ],
      "metadata": {
        "colab": {
          "base_uri": "https://localhost:8080/"
        },
        "id": "pcrUBIWaSub0",
        "outputId": "daaf86b9-0bc0-4c2b-d0db-5f9ccfdd408a"
      },
      "execution_count": null,
      "outputs": [
        {
          "output_type": "stream",
          "name": "stdout",
          "text": [
            "0    10\n",
            "1    11\n",
            "2    12\n",
            "3    13\n",
            "4    14\n",
            "5    15\n",
            "6    16\n",
            "dtype: int64\n",
            "head : 0    10\n",
            "1    11\n",
            "2    12\n",
            "dtype: int64\n",
            "tail : 5    15\n",
            "6    16\n",
            "dtype: int64\n",
            "count : 7\n"
          ]
        }
      ]
    },
    {
      "cell_type": "code",
      "source": [
        "import pandas as pd\n",
        "import numpy as np\n",
        "s1=pd.Series(np.arange(10,17,1))\n",
        "s1.index.name=\"values\"\n",
        "s1.name=\"numbers\"\n",
        "print(s1.count())\n",
        "s2=pd.Series(np.arange(1,6,1))\n",
        "s3=s1+s2\n",
        "print(s1)\n",
        "print(s2)\n",
        "print(s3)\n",
        "print(s1.add(s2,fill_value=0))"
      ],
      "metadata": {
        "colab": {
          "base_uri": "https://localhost:8080/"
        },
        "id": "ZPvc-Cw0T3OX",
        "outputId": "1afadde0-e5f7-46b2-d8d4-121cc6c7c290"
      },
      "execution_count": null,
      "outputs": [
        {
          "output_type": "stream",
          "name": "stdout",
          "text": [
            "7\n",
            "values\n",
            "0    10\n",
            "1    11\n",
            "2    12\n",
            "3    13\n",
            "4    14\n",
            "5    15\n",
            "6    16\n",
            "Name: numbers, dtype: int64\n",
            "0    1\n",
            "1    2\n",
            "2    3\n",
            "3    4\n",
            "4    5\n",
            "dtype: int64\n",
            "0    11.0\n",
            "1    13.0\n",
            "2    15.0\n",
            "3    17.0\n",
            "4    19.0\n",
            "5     NaN\n",
            "6     NaN\n",
            "dtype: float64\n",
            "0    11.0\n",
            "1    13.0\n",
            "2    15.0\n",
            "3    17.0\n",
            "4    19.0\n",
            "5    15.0\n",
            "6    16.0\n",
            "dtype: float64\n"
          ]
        }
      ]
    },
    {
      "cell_type": "markdown",
      "source": [
        "DataFrames"
      ],
      "metadata": {
        "id": "5sEFnWUVYFJG"
      }
    },
    {
      "cell_type": "code",
      "source": [
        "import pandas as pd\n",
        "import numpy as np\n",
        "print(\"creating the dataFrame using array\")\n",
        "a1=np.array([10,20,30,40])\n",
        "a2=np.array([50,60,70,80])\n",
        "a3=np.array([10,20,30,40])\n",
        "d1=pd.DataFrame([a1,a2,a3],columns=['a','b','c','d'])\n",
        "print(d1)\n",
        "print(\"creating the dataFrame using series\")\n",
        "s1=pd.Series([10,20,30,40],index=['vignesh','rajesh','ram','charan'])\n",
        "s2=pd.Series([50,60,70,80],index=['vignesh','rajesh','ram','charan'])\n",
        "s3=pd.Series([10,20,30,40],index=['vignesh','rajesh','ram','charan'])\n",
        "d2=pd.DataFrame([s1,s2,s3])\n",
        "print(d2)\n"
      ],
      "metadata": {
        "colab": {
          "base_uri": "https://localhost:8080/"
        },
        "id": "tIZ5P7caX5HP",
        "outputId": "07de0aa4-8198-40ea-c4a0-709fbf0003d8"
      },
      "execution_count": null,
      "outputs": [
        {
          "output_type": "stream",
          "name": "stdout",
          "text": [
            "creating the dataFrame using array\n",
            "    a   b   c   d\n",
            "0  10  20  30  40\n",
            "1  50  60  70  80\n",
            "2  10  20  30  40\n",
            "creating the dataFrame using series\n",
            "   vignesh  rajesh  ram  charan\n",
            "0       10      20   30      40\n",
            "1       50      60   70      80\n",
            "2       10      20   30      40\n"
          ]
        }
      ]
    },
    {
      "cell_type": "code",
      "source": [
        "import pandas as pd\n",
        "d1=pd.DataFrame({\"vignesh\": [10,20,30],\"ram\":[20,30,40],\"charan\":[120,34,55]})\n",
        "print(d1)\n",
        "print(d1.tail(2))\n",
        "print(d1.iloc[1:,:2])\n",
        "d1.loc[4]=[40,50,60]\n",
        "print(d1)\n",
        "print(d1.vignesh.sum())\n",
        "print(d1.vignesh.sort_values())"
      ],
      "metadata": {
        "colab": {
          "base_uri": "https://localhost:8080/"
        },
        "id": "O9TTDmmcdDfj",
        "outputId": "13b08e60-6712-4ebc-d0aa-f369cc2b5e78"
      },
      "execution_count": null,
      "outputs": [
        {
          "output_type": "stream",
          "name": "stdout",
          "text": [
            "   vignesh  ram  charan\n",
            "0       10   20     120\n",
            "1       20   30      34\n",
            "2       30   40      55\n",
            "   vignesh  ram  charan\n",
            "1       20   30      34\n",
            "2       30   40      55\n",
            "   vignesh  ram\n",
            "1       20   30\n",
            "2       30   40\n",
            "   vignesh  ram  charan\n",
            "0       10   20     120\n",
            "1       20   30      34\n",
            "2       30   40      55\n",
            "4       40   50      60\n",
            "100\n",
            "0    10\n",
            "1    20\n",
            "2    30\n",
            "4    40\n",
            "Name: vignesh, dtype: int64\n"
          ]
        }
      ]
    },
    {
      "cell_type": "code",
      "source": [
        "import pandas as pd\n",
        "d1=pd.read_csv('/content/sample_data/anscombe.json')\n",
        "print(d1.to_string())"
      ],
      "metadata": {
        "colab": {
          "base_uri": "https://localhost:8080/"
        },
        "id": "2CGNG74KRN0N",
        "outputId": "fddbca7e-085e-43da-f88a-3e7d2d771298"
      },
      "execution_count": null,
      "outputs": [
        {
          "output_type": "stream",
          "name": "stdout",
          "text": [
            "                                        [\n",
            "  {\"Series\":\"I\"   \"X\":10.0 \"Y\":8.04}  NaN\n",
            "                  \"X\":8.0  \"Y\":6.95}  NaN\n",
            "                  \"X\":13.0 \"Y\":7.58}  NaN\n",
            "                  \"X\":9.0  \"Y\":8.81}  NaN\n",
            "                  \"X\":11.0 \"Y\":8.33}  NaN\n",
            "                  \"X\":14.0 \"Y\":9.96}  NaN\n",
            "                  \"X\":6.0  \"Y\":7.24}  NaN\n",
            "                  \"X\":4.0  \"Y\":4.26}  NaN\n",
            "                  \"X\":12.0 \"Y\":10.84} NaN\n",
            "                  \"X\":7.0  \"Y\":4.81}  NaN\n",
            "                  \"X\":5.0  \"Y\":5.68}  NaN\n",
            "  {\"Series\":\"II\"  \"X\":10.0 \"Y\":9.14}  NaN\n",
            "                  \"X\":8.0  \"Y\":8.14}  NaN\n",
            "                  \"X\":13.0 \"Y\":8.74}  NaN\n",
            "                  \"X\":9.0  \"Y\":8.77}  NaN\n",
            "                  \"X\":11.0 \"Y\":9.26}  NaN\n",
            "                  \"X\":14.0 \"Y\":8.10}  NaN\n",
            "                  \"X\":6.0  \"Y\":6.13}  NaN\n",
            "                  \"X\":4.0  \"Y\":3.10}  NaN\n",
            "                  \"X\":12.0 \"Y\":9.13}  NaN\n",
            "                  \"X\":7.0  \"Y\":7.26}  NaN\n",
            "                  \"X\":5.0  \"Y\":4.74}  NaN\n",
            "  {\"Series\":\"III\" \"X\":10.0 \"Y\":7.46}  NaN\n",
            "                  \"X\":8.0  \"Y\":6.77}  NaN\n",
            "                  \"X\":13.0 \"Y\":12.74} NaN\n",
            "                  \"X\":9.0  \"Y\":7.11}  NaN\n",
            "                  \"X\":11.0 \"Y\":7.81}  NaN\n",
            "                  \"X\":14.0 \"Y\":8.84}  NaN\n",
            "                  \"X\":6.0  \"Y\":6.08}  NaN\n",
            "                  \"X\":4.0  \"Y\":5.39}  NaN\n",
            "                  \"X\":12.0 \"Y\":8.15}  NaN\n",
            "                  \"X\":7.0  \"Y\":6.42}  NaN\n",
            "                  \"X\":5.0  \"Y\":5.73}  NaN\n",
            "  {\"Series\":\"IV\"  \"X\":8.0  \"Y\":6.58}  NaN\n",
            "                           \"Y\":5.76}  NaN\n",
            "                           \"Y\":7.71}  NaN\n",
            "                           \"Y\":8.84}  NaN\n",
            "                           \"Y\":8.47}  NaN\n",
            "                           \"Y\":7.04}  NaN\n",
            "                           \"Y\":5.25}  NaN\n",
            "                  \"X\":19.0 \"Y\":12.50} NaN\n",
            "                  \"X\":8.0  \"Y\":5.56}  NaN\n",
            "                           \"Y\":7.91}  NaN\n",
            "                           \"Y\":6.89}  NaN\n",
            "]                 NaN      NaN        NaN\n"
          ]
        }
      ]
    },
    {
      "cell_type": "code",
      "source": [
        "import pandas as pd\n",
        "data = {\n",
        "    'Subject': ['Math', 'Science', 'English', 'History', 'Computer'],\n",
        "    'a': [95, 88, 76, 84, 99],\n",
        "    'b': [94, 90, 86, 81, 96],\n",
        "    'c': [67, 68, 86, 74, 59],\n",
        "    'd': [74, 50, 96, 91, 76]\n",
        "}\n",
        "df = pd.DataFrame(data)\n",
        "print(df)\n",
        "print(\"\\nMaximum value:\")\n",
        "print(df.max(numeric_only=True))\n",
        "print(\"\\nMinimum value:\")\n",
        "print(df.min(numeric_only=True))\n",
        "print(\"\\nSum of values:\")\n",
        "print(df.sum(numeric_only=True))\n",
        "print(\"\\nMean (Average):\")\n",
        "print(df.mean(numeric_only=True))\n",
        "print(\"\\nMedian:\")\n",
        "print(df.median(numeric_only=True))\n",
        "print(\"\\nStandard Deviation:\")\n",
        "print(df.std(numeric_only=True))\n",
        "print(\"\\nDescribe (Summary Statistics):\")\n",
        "print(df.describe())\n",
        "\n",
        "\n"
      ],
      "metadata": {
        "colab": {
          "base_uri": "https://localhost:8080/"
        },
        "id": "4BPeWPesVJfo",
        "outputId": "ca841ffe-9cee-4bc9-96a6-1a538cc8e1ed"
      },
      "execution_count": 4,
      "outputs": [
        {
          "output_type": "stream",
          "name": "stdout",
          "text": [
            "    Subject   a   b   c   d\n",
            "0      Math  95  94  67  74\n",
            "1   Science  88  90  68  50\n",
            "2   English  76  86  86  96\n",
            "3   History  84  81  74  91\n",
            "4  Computer  99  96  59  76\n",
            "\n",
            "Maximum value:\n",
            "a    99\n",
            "b    96\n",
            "c    86\n",
            "d    96\n",
            "dtype: int64\n",
            "\n",
            "Minimum value:\n",
            "a    76\n",
            "b    81\n",
            "c    59\n",
            "d    50\n",
            "dtype: int64\n",
            "\n",
            "Sum of values:\n",
            "a    442\n",
            "b    447\n",
            "c    354\n",
            "d    387\n",
            "dtype: int64\n",
            "\n",
            "Mean (Average):\n",
            "a    88.4\n",
            "b    89.4\n",
            "c    70.8\n",
            "d    77.4\n",
            "dtype: float64\n",
            "\n",
            "Median:\n",
            "a    88.0\n",
            "b    90.0\n",
            "c    68.0\n",
            "d    76.0\n",
            "dtype: float64\n",
            "\n",
            "Standard Deviation:\n",
            "a     9.071935\n",
            "b     6.066300\n",
            "c    10.034939\n",
            "d    17.994444\n",
            "dtype: float64\n",
            "\n",
            "Describe (Summary Statistics):\n",
            "               a        b          c          d\n",
            "count   5.000000   5.0000   5.000000   5.000000\n",
            "mean   88.400000  89.4000  70.800000  77.400000\n",
            "std     9.071935   6.0663  10.034939  17.994444\n",
            "min    76.000000  81.0000  59.000000  50.000000\n",
            "25%    84.000000  86.0000  67.000000  74.000000\n",
            "50%    88.000000  90.0000  68.000000  76.000000\n",
            "75%    95.000000  94.0000  74.000000  91.000000\n",
            "max    99.000000  96.0000  86.000000  96.000000\n"
          ]
        }
      ]
    },
    {
      "cell_type": "code",
      "source": [],
      "metadata": {
        "id": "8oW7MMv1VHtC"
      },
      "execution_count": null,
      "outputs": []
    }
  ]
}