{
  "metadata": {
    "kernelspec": {
      "language": "python",
      "display_name": "Python 3",
      "name": "python3"
    },
    "language_info": {
      "name": "python",
      "version": "3.11.13",
      "mimetype": "text/x-python",
      "codemirror_mode": {
        "name": "ipython",
        "version": 3
      },
      "pygments_lexer": "ipython3",
      "nbconvert_exporter": "python",
      "file_extension": ".py"
    },
    "kaggle": {
      "accelerator": "none",
      "dataSources": [
        {
          "sourceId": 12901986,
          "sourceType": "datasetVersion",
          "datasetId": 8163338
        },
        {
          "sourceId": 12902059,
          "sourceType": "datasetVersion",
          "datasetId": 8163387
        },
        {
          "sourceId": 12902220,
          "sourceType": "datasetVersion",
          "datasetId": 8163499
        }
      ],
      "dockerImageVersionId": 31089,
      "isInternetEnabled": false,
      "language": "python",
      "sourceType": "notebook",
      "isGpuEnabled": false
    },
    "colab": {
      "name": "Linear_Logistic_Regression",
      "provenance": [],
      "include_colab_link": true
    }
  },
  "nbformat_minor": 0,
  "nbformat": 4,
  "cells": [
    {
      "cell_type": "markdown",
      "metadata": {
        "id": "view-in-github",
        "colab_type": "text"
      },
      "source": [
        "<a href=\"https://colab.research.google.com/github/vigneshwar315/machinelearning/blob/main/Linear_Logistic_Regression.ipynb\" target=\"_parent\"><img src=\"https://colab.research.google.com/assets/colab-badge.svg\" alt=\"Open In Colab\"/></a>"
      ]
    },
    {
      "source": [
        "# IMPORTANT: SOME KAGGLE DATA SOURCES ARE PRIVATE\n",
        "# RUN THIS CELL IN ORDER TO IMPORT YOUR KAGGLE DATA SOURCES.\n",
        "import kagglehub\n",
        "kagglehub.login()\n"
      ],
      "metadata": {
        "id": "4yurXlZ8ThuP"
      },
      "cell_type": "code",
      "outputs": [],
      "execution_count": null
    },
    {
      "source": [
        "# IMPORTANT: RUN THIS CELL IN ORDER TO IMPORT YOUR KAGGLE DATA SOURCES,\n",
        "# THEN FEEL FREE TO DELETE THIS CELL.\n",
        "# NOTE: THIS NOTEBOOK ENVIRONMENT DIFFERS FROM KAGGLE'S PYTHON\n",
        "# ENVIRONMENT SO THERE MAY BE MISSING LIBRARIES USED BY YOUR\n",
        "# NOTEBOOK.\n",
        "\n",
        "malevigneshwarreddy_diabetes_path = kagglehub.dataset_download('malevigneshwarreddy/diabetes')\n",
        "malevigneshwarreddy_house_price_path = kagglehub.dataset_download('malevigneshwarreddy/house-price')\n",
        "malevigneshwarreddy_salary_data_path = kagglehub.dataset_download('malevigneshwarreddy/salary-data')\n",
        "\n",
        "print('Data source import complete.')\n"
      ],
      "metadata": {
        "id": "ms1AhdjlThuS"
      },
      "cell_type": "code",
      "outputs": [],
      "execution_count": null
    },
    {
      "cell_type": "code",
      "source": [
        "# This Python 3 environment comes with many helpful analytics libraries installed\n",
        "# It is defined by the kaggle/python Docker image: https://github.com/kaggle/docker-python\n",
        "# For example, here's several helpful packages to load\n",
        "\n",
        "import numpy as np # linear algebra\n",
        "import pandas as pd # data processing, CSV file I/O (e.g. pd.read_csv)\n",
        "\n",
        "# Input data files are available in the read-only \"../input/\" directory\n",
        "# For example, running this (by clicking run or pressing Shift+Enter) will list all files under the input directory\n",
        "\n",
        "import os\n",
        "for dirname, _, filenames in os.walk('/kaggle/input'):\n",
        "    for filename in filenames:\n",
        "        print(os.path.join(dirname, filename))\n",
        "\n",
        "# You can write up to 20GB to the current directory (/kaggle/working/) that gets preserved as output when you create a version using \"Save & Run All\"\n",
        "# You can also write temporary files to /kaggle/temp/, but they won't be saved outside of the current session"
      ],
      "metadata": {
        "_uuid": "8f2839f25d086af736a60e9eeb907d3b93b6e0e5",
        "_cell_guid": "b1076dfc-b9ad-4769-8c92-a6c4dae69d19",
        "trusted": true,
        "id": "2j7vFhYOThuS"
      },
      "outputs": [],
      "execution_count": null
    },
    {
      "cell_type": "code",
      "source": [
        "#simple Linear Regression on house price prediction\n",
        "import pandas as pd\n",
        "from sklearn.model_selection import train_test_split\n",
        "from sklearn.metrics import r2_score,mean_squared_error\n",
        "from sklearn.linear_model import LinearRegression\n",
        "\n",
        "dataset= pd.read_csv(\"/kaggle/input/house-price/house_price_train.csv\")\n",
        "X=dataset[[\"MSSubClass\"]]\n",
        "y=dataset[\"SalePrice\"]\n",
        "\n",
        "x_train,x_test,y_train,y_test=train_test_split(X,y,test_size=0.3,random_state=42)\n",
        "\n",
        "model=LinearRegression()\n",
        "model.fit(x_train,y_train)\n",
        "y_pred=model.predict(x_test)\n",
        "\n",
        "mse=mean_squared_error(y_test,y_pred)\n",
        "mse2=mse**0.5\n",
        "rs=r2_score(y_test,y_pred)\n",
        "\n",
        "print(\"mse: \",mse)\n",
        "print(\"mse2: \",mse2)\n",
        "print(\"r2 score: \",rs)\n",
        "print(\"intercept: \",model.intercept_)\n",
        "print(\"slope: \",model.coef_[0])"
      ],
      "metadata": {
        "trusted": true,
        "execution": {
          "iopub.status.busy": "2025-08-29T05:10:12.443234Z",
          "iopub.execute_input": "2025-08-29T05:10:12.443581Z",
          "iopub.status.idle": "2025-08-29T05:10:12.481192Z",
          "shell.execute_reply.started": "2025-08-29T05:10:12.443547Z",
          "shell.execute_reply": "2025-08-29T05:10:12.480173Z"
        },
        "id": "Bye3cNxtThuT",
        "outputId": "c5d8eba0-8a66-4c00-e6bd-41061672ba26"
      },
      "outputs": [
        {
          "name": "stdout",
          "text": "mse:  6955867239.907043\nmse2:  83401.84194552926\nr2 score:  0.0031851852086994814\nintercept:  191079.49954959928\nslope:  -171.16825070205726\n",
          "output_type": "stream"
        }
      ],
      "execution_count": null
    },
    {
      "cell_type": "code",
      "source": [
        "#simple Linear Regression on salary prediction\n",
        "import pandas as pd\n",
        "from sklearn.model_selection import train_test_split\n",
        "from sklearn.metrics import r2_score,mean_squared_error\n",
        "from sklearn.linear_model import LinearRegression\n",
        "\n",
        "dataset= pd.read_csv(\"/kaggle/input/salary-data/salary_data.csv\")\n",
        "X=dataset[[\"YearsExperience\"]]\n",
        "y=dataset[\"Salary\"]\n",
        "\n",
        "x_train,x_test,y_train,y_test=train_test_split(X,y,test_size=0.3,random_state=42)\n",
        "\n",
        "model=LinearRegression()\n",
        "model.fit(x_train,y_train)\n",
        "y_pred=model.predict(x_test)\n",
        "\n",
        "mse=mean_squared_error(y_test,y_pred)\n",
        "mse2=mse**0.5\n",
        "rs=r2_score(y_test,y_pred)\n",
        "\n",
        "print(\"mse: \",mse)\n",
        "print(\"mse2: \",mse2)\n",
        "print(\"r2 score: \",rs)\n",
        "print(\"intercept: \",model.intercept_)\n",
        "print(\"slope: \",model.coef_[0])"
      ],
      "metadata": {
        "trusted": true,
        "execution": {
          "iopub.status.busy": "2025-08-29T05:19:27.125138Z",
          "iopub.execute_input": "2025-08-29T05:19:27.125513Z",
          "iopub.status.idle": "2025-08-29T05:19:27.141539Z",
          "shell.execute_reply.started": "2025-08-29T05:19:27.125479Z",
          "shell.execute_reply": "2025-08-29T05:19:27.140296Z"
        },
        "id": "opPTV_e5ThuU",
        "outputId": "800daec8-09b8-4616-f668-1d959ecf8673"
      },
      "outputs": [
        {
          "name": "stdout",
          "text": "mse:  37784662.46621314\nmse2:  6146.92300799458\nr2 score:  0.9414466227178214\nintercept:  25918.438334893202\nslope:  9339.081723815198\n",
          "output_type": "stream"
        }
      ],
      "execution_count": null
    },
    {
      "cell_type": "code",
      "source": [
        "#multi Linear Regression on house price prediction\n",
        "import pandas as pd\n",
        "from sklearn.model_selection import train_test_split\n",
        "from sklearn.metrics import r2_score,mean_squared_error\n",
        "from sklearn.linear_model import LinearRegression\n",
        "\n",
        "dataset= pd.read_csv(\"/kaggle/input/house-price/house_price_train.csv\")\n",
        "X=dataset[[\"MSSubClass\",\"OverallQual\",\"OverallCond\"]]\n",
        "y=dataset[\"SalePrice\"]\n",
        "\n",
        "x_train,x_test,y_train,y_test=train_test_split(X,y,test_size=0.3,random_state=42)\n",
        "\n",
        "model=LinearRegression()\n",
        "model.fit(x_train,y_train)\n",
        "y_pred=model.predict(x_test)\n",
        "\n",
        "mse=mean_squared_error(y_test,y_pred)\n",
        "mse2=mse**0.5\n",
        "rs=r2_score(y_test,y_pred)\n",
        "\n",
        "print(\"mse: \",mse)\n",
        "print(\"mse2: \",mse2)\n",
        "print(\"r2 score: \",rs)\n",
        "print(\"intercept: \",model.intercept_)\n",
        "print(\"slope: \",model.coef_[0])"
      ],
      "metadata": {
        "trusted": true,
        "execution": {
          "iopub.status.busy": "2025-08-29T05:24:21.402502Z",
          "iopub.execute_input": "2025-08-29T05:24:21.402862Z",
          "iopub.status.idle": "2025-08-29T05:24:21.441972Z",
          "shell.execute_reply.started": "2025-08-29T05:24:21.40283Z",
          "shell.execute_reply": "2025-08-29T05:24:21.440957Z"
        },
        "id": "5SdAT2vzThuU",
        "outputId": "428b8ffd-000c-4620-f23b-32c686534fc3"
      },
      "outputs": [
        {
          "name": "stdout",
          "text": "mse:  2441584555.717138\nmse2:  49412.39273418297\nr2 score:  0.6501072299452048\nintercept:  -71428.82142190842\nslope:  -223.3901162674926\n",
          "output_type": "stream"
        }
      ],
      "execution_count": null
    },
    {
      "cell_type": "code",
      "source": [
        "#Logistic Regression\n",
        "import pandas as pd\n",
        "from sklearn.model_selection import train_test_split\n",
        "from sklearn.metrics import accuracy_score,classification_report\n",
        "from sklearn.linear_model import LogisticRegression\n",
        "\n",
        "dataset=pd.read_csv(\"/kaggle/input/diabetes/diabetes_DT.csv\")\n",
        "X,y=dataset.drop(columns=\"Outcome\"),dataset[\"Outcome\"]\n",
        "x_train,x_test,y_train,y_test=train_test_split(X,y,test_size=0.3,random_state=42)\n",
        "\n",
        "model=LogisticRegression(max_iter=1000)\n",
        "model.fit(x_train,y_train)\n",
        "y_pred=model.predict(x_test)\n",
        "\n",
        "\n",
        "accuracy = accuracy_score(y_test, y_pred)\n",
        "print(\"accuracy: \", accuracy)\n",
        "print(\"classification Report:\")\n",
        "print(classification_report(y_test, y_pred))"
      ],
      "metadata": {
        "trusted": true,
        "execution": {
          "iopub.status.busy": "2025-08-29T04:45:34.058122Z",
          "iopub.execute_input": "2025-08-29T04:45:34.058455Z",
          "iopub.status.idle": "2025-08-29T04:45:34.676818Z",
          "shell.execute_reply.started": "2025-08-29T04:45:34.058431Z",
          "shell.execute_reply": "2025-08-29T04:45:34.675238Z"
        },
        "id": "lsu-5hNpThuU",
        "outputId": "94250da3-43f7-4a2c-8265-aec0290010da"
      },
      "outputs": [
        {
          "name": "stdout",
          "text": "accuracy:  0.7359307359307359\nclassification Report:\n              precision    recall  f1-score   support\n\n           0       0.80      0.79      0.80       151\n           1       0.62      0.62      0.62        80\n\n    accuracy                           0.74       231\n   macro avg       0.71      0.71      0.71       231\nweighted avg       0.74      0.74      0.74       231\n\n",
          "output_type": "stream"
        }
      ],
      "execution_count": null
    }
  ]
}